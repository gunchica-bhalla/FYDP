{
 "cells": [
  {
   "cell_type": "code",
   "execution_count": 1,
   "id": "b9d59e42",
   "metadata": {},
   "outputs": [],
   "source": [
    "import pandas as pd\n",
    "import numpy as np"
   ]
  },
  {
   "cell_type": "code",
   "execution_count": 2,
   "id": "80ef875b",
   "metadata": {},
   "outputs": [],
   "source": [
    "df = pd.read_csv('Take-1_-How-well-do-you-know-Cars_-Responsesrough-clean.csv')"
   ]
  },
  {
   "cell_type": "code",
   "execution_count": 3,
   "id": "3971e857",
   "metadata": {},
   "outputs": [
    {
     "data": {
      "text/plain": [
       "792"
      ]
     },
     "execution_count": 3,
     "metadata": {},
     "output_type": "execute_result"
    }
   ],
   "source": [
    "len(df)"
   ]
  },
  {
   "cell_type": "code",
   "execution_count": 4,
   "id": "cba46691",
   "metadata": {
    "scrolled": true
   },
   "outputs": [
    {
     "data": {
      "text/plain": [
       "Index(['Timestamp', 'What is your gender identity?', 'You are a...',\n",
       "       'Your age?',\n",
       "       'Have you ever visited a mechanic? If yes, then what for? ',\n",
       "       '1. Describe the object below:', '2. Describe the object below:',\n",
       "       '3. Describe the object below:', '4. Describe the object below:',\n",
       "       '5. Describe the object below:',\n",
       "       '1. Describe the object in the yellow box', '2. Describe the object',\n",
       "       '3. Describe the object labelled 3:',\n",
       "       '4. Describe the object labelled 4:', '5.Describe the object',\n",
       "       '6. Describe the object circled:', '7. Describe the object:',\n",
       "       '8. Describe the object:', '9. Describe the object in the yellow box:',\n",
       "       '10. Describe the object labelled 10:'],\n",
       "      dtype='object')"
      ]
     },
     "execution_count": 4,
     "metadata": {},
     "output_type": "execute_result"
    }
   ],
   "source": [
    "df.columns"
   ]
  },
  {
   "cell_type": "code",
   "execution_count": 5,
   "id": "951ef916",
   "metadata": {},
   "outputs": [],
   "source": [
    "mapping = {df.columns[1]: 'Gender', df.columns[2]: 'Expertise', df.columns[3]: 'Age',\n",
    "          df.columns[4]: 'Visited_Mech', df.columns[5]: 'Q1', df.columns[6]: 'Q2', \n",
    "          df.columns[7]: 'Q3', df.columns[8]: 'Q4', df.columns[9]: 'Q5', df.columns[10]: 'Q6',\n",
    "          df.columns[11]: 'Q7', df.columns[12]: 'Q8', df.columns[13]: 'Q9', df.columns[14]: 'Q10',\n",
    "          df.columns[15]: 'Q11', df.columns[16]: 'Q12', df.columns[17]: 'Q13', df.columns[18]: 'Q14',\n",
    "          df.columns[19]: 'Q15'}\n",
    "df.rename(columns=mapping, inplace=True)"
   ]
  },
  {
   "cell_type": "code",
   "execution_count": 6,
   "id": "ee6ccfa2",
   "metadata": {},
   "outputs": [
    {
     "data": {
      "text/html": [
       "<div>\n",
       "<style scoped>\n",
       "    .dataframe tbody tr th:only-of-type {\n",
       "        vertical-align: middle;\n",
       "    }\n",
       "\n",
       "    .dataframe tbody tr th {\n",
       "        vertical-align: top;\n",
       "    }\n",
       "\n",
       "    .dataframe thead th {\n",
       "        text-align: right;\n",
       "    }\n",
       "</style>\n",
       "<table border=\"1\" class=\"dataframe\">\n",
       "  <thead>\n",
       "    <tr style=\"text-align: right;\">\n",
       "      <th></th>\n",
       "      <th>Timestamp</th>\n",
       "      <th>Gender</th>\n",
       "      <th>Expertise</th>\n",
       "      <th>Age</th>\n",
       "      <th>Visited_Mech</th>\n",
       "      <th>Q1</th>\n",
       "      <th>Q2</th>\n",
       "      <th>Q3</th>\n",
       "      <th>Q4</th>\n",
       "      <th>Q5</th>\n",
       "      <th>Q6</th>\n",
       "      <th>Q7</th>\n",
       "      <th>Q8</th>\n",
       "      <th>Q9</th>\n",
       "      <th>Q10</th>\n",
       "      <th>Q11</th>\n",
       "      <th>Q12</th>\n",
       "      <th>Q13</th>\n",
       "      <th>Q14</th>\n",
       "      <th>Q15</th>\n",
       "    </tr>\n",
       "  </thead>\n",
       "  <tbody>\n",
       "    <tr>\n",
       "      <th>0</th>\n",
       "      <td>6-21-2022 16:50:55</td>\n",
       "      <td>NaN</td>\n",
       "      <td>A Non-Expert Female</td>\n",
       "      <td>21-30</td>\n",
       "      <td>NaN</td>\n",
       "      <td>Wheel of a vehicle</td>\n",
       "      <td>Unsure</td>\n",
       "      <td>Unsure</td>\n",
       "      <td>Unsure</td>\n",
       "      <td>Unsure</td>\n",
       "      <td>Unsure</td>\n",
       "      <td>Unsure</td>\n",
       "      <td>Unsure</td>\n",
       "      <td>Unsure</td>\n",
       "      <td>Unsure</td>\n",
       "      <td>Unsure</td>\n",
       "      <td>Unsure, perhaps the exhaust pipe?</td>\n",
       "      <td>Unsure</td>\n",
       "      <td>Unsure</td>\n",
       "      <td>Unsure</td>\n",
       "    </tr>\n",
       "    <tr>\n",
       "      <th>1</th>\n",
       "      <td>6-21-2022 16:57:09</td>\n",
       "      <td>NaN</td>\n",
       "      <td>A Non-Expert Female</td>\n",
       "      <td>11-20</td>\n",
       "      <td>NaN</td>\n",
       "      <td>It is an inflated car tire with the rim attached</td>\n",
       "      <td>A pencil and I have no idea what the other thi...</td>\n",
       "      <td>Nuts or bolts ? Not sure</td>\n",
       "      <td>Absolutely no clue</td>\n",
       "      <td>This is the thing that keeps the car up while ...</td>\n",
       "      <td>The engine of the car</td>\n",
       "      <td>The battery of the car</td>\n",
       "      <td>Do not know</td>\n",
       "      <td>Do not know</td>\n",
       "      <td>Do not know</td>\n",
       "      <td>No clue</td>\n",
       "      <td>No clue</td>\n",
       "      <td>Do not know</td>\n",
       "      <td>Do not know</td>\n",
       "      <td>No clue</td>\n",
       "    </tr>\n",
       "    <tr>\n",
       "      <th>2</th>\n",
       "      <td>6-21-2022 17:00:32</td>\n",
       "      <td>NaN</td>\n",
       "      <td>A Non-Expert Female</td>\n",
       "      <td>41-50</td>\n",
       "      <td>NaN</td>\n",
       "      <td>Spare tire for a vehicle</td>\n",
       "      <td>Pencil</td>\n",
       "      <td>Nuts</td>\n",
       "      <td>Nut</td>\n",
       "      <td>Hoist for lifting vehicle to change tire</td>\n",
       "      <td>Engine</td>\n",
       "      <td>Battery</td>\n",
       "      <td>Don’t know</td>\n",
       "      <td>No idea</td>\n",
       "      <td>Air exchanger</td>\n",
       "      <td>Muffler</td>\n",
       "      <td>Pipe</td>\n",
       "      <td>Rotor</td>\n",
       "      <td>No idea</td>\n",
       "      <td>No idea</td>\n",
       "    </tr>\n",
       "    <tr>\n",
       "      <th>3</th>\n",
       "      <td>6-28-2022 17:53:02</td>\n",
       "      <td>Male</td>\n",
       "      <td>car expert</td>\n",
       "      <td>18-20</td>\n",
       "      <td>yes, busted engine</td>\n",
       "      <td>an obese plate</td>\n",
       "      <td>a crowbar with a mouth</td>\n",
       "      <td>a nut-bolt…cmon i’m not stupid</td>\n",
       "      <td>a more round nut-bolt</td>\n",
       "      <td>something to lift the car with</td>\n",
       "      <td>the thing that make the car go vroom vroom</td>\n",
       "      <td>gear box</td>\n",
       "      <td>something for the car’s brakes</td>\n",
       "      <td>a pipe bro</td>\n",
       "      <td>a thiccer pipe bro</td>\n",
       "      <td>THE THICCEST PIPE BOI</td>\n",
       "      <td>exhaust</td>\n",
       "      <td>brakes</td>\n",
       "      <td>suspension boink</td>\n",
       "      <td>luggage idk</td>\n",
       "    </tr>\n",
       "    <tr>\n",
       "      <th>4</th>\n",
       "      <td>6-28-2022 18:03:15</td>\n",
       "      <td>Male</td>\n",
       "      <td>non-expert</td>\n",
       "      <td>21-30</td>\n",
       "      <td>No</td>\n",
       "      <td>Spare wheel</td>\n",
       "      <td>It is like a spatula, something you can use to...</td>\n",
       "      <td>Nut</td>\n",
       "      <td>An extended nut</td>\n",
       "      <td>Non hydraulic jack</td>\n",
       "      <td>Looks like that could be the engine</td>\n",
       "      <td>Battery</td>\n",
       "      <td>Oil container</td>\n",
       "      <td>Pipe to transport oil</td>\n",
       "      <td>Exhaust</td>\n",
       "      <td>Exhaust</td>\n",
       "      <td>Exhaust</td>\n",
       "      <td>Something u put the tyre in</td>\n",
       "      <td>Spring</td>\n",
       "      <td>Back of the car</td>\n",
       "    </tr>\n",
       "  </tbody>\n",
       "</table>\n",
       "</div>"
      ],
      "text/plain": [
       "            Timestamp Gender            Expertise    Age        Visited_Mech  \\\n",
       "0  6-21-2022 16:50:55    NaN  A Non-Expert Female  21-30                 NaN   \n",
       "1  6-21-2022 16:57:09    NaN  A Non-Expert Female  11-20                 NaN   \n",
       "2  6-21-2022 17:00:32    NaN  A Non-Expert Female  41-50                 NaN   \n",
       "3  6-28-2022 17:53:02   Male           car expert  18-20  yes, busted engine   \n",
       "4  6-28-2022 18:03:15   Male           non-expert  21-30                  No   \n",
       "\n",
       "                                                 Q1  \\\n",
       "0                                Wheel of a vehicle   \n",
       "1  It is an inflated car tire with the rim attached   \n",
       "2                         Spare tire for a vehicle    \n",
       "3                                    an obese plate   \n",
       "4                                       Spare wheel   \n",
       "\n",
       "                                                  Q2  \\\n",
       "0                                             Unsure   \n",
       "1  A pencil and I have no idea what the other thi...   \n",
       "2                                            Pencil    \n",
       "3                             a crowbar with a mouth   \n",
       "4  It is like a spatula, something you can use to...   \n",
       "\n",
       "                               Q3                     Q4  \\\n",
       "0                          Unsure                 Unsure   \n",
       "1        Nuts or bolts ? Not sure     Absolutely no clue   \n",
       "2                           Nuts                     Nut   \n",
       "3  a nut-bolt…cmon i’m not stupid  a more round nut-bolt   \n",
       "4                             Nut        An extended nut   \n",
       "\n",
       "                                                  Q5  \\\n",
       "0                                             Unsure   \n",
       "1  This is the thing that keeps the car up while ...   \n",
       "2          Hoist for lifting vehicle to change tire    \n",
       "3                     something to lift the car with   \n",
       "4                                 Non hydraulic jack   \n",
       "\n",
       "                                           Q6                      Q7  \\\n",
       "0                                      Unsure                  Unsure   \n",
       "1                       The engine of the car  The battery of the car   \n",
       "2                                     Engine                 Battery    \n",
       "3  the thing that make the car go vroom vroom                gear box   \n",
       "4         Looks like that could be the engine                 Battery   \n",
       "\n",
       "                               Q8                     Q9                 Q10  \\\n",
       "0                          Unsure                 Unsure              Unsure   \n",
       "1                     Do not know            Do not know         Do not know   \n",
       "2                    Don’t know                 No idea       Air exchanger    \n",
       "3  something for the car’s brakes             a pipe bro  a thiccer pipe bro   \n",
       "4                  Oil container   Pipe to transport oil            Exhaust    \n",
       "\n",
       "                     Q11                                Q12  \\\n",
       "0                 Unsure  Unsure, perhaps the exhaust pipe?   \n",
       "1                No clue                            No clue   \n",
       "2               Muffler                               Pipe    \n",
       "3  THE THICCEST PIPE BOI                            exhaust   \n",
       "4                Exhaust                           Exhaust    \n",
       "\n",
       "                           Q13               Q14              Q15  \n",
       "0                       Unsure            Unsure          Unsure   \n",
       "1                  Do not know       Do not know          No clue  \n",
       "2                       Rotor           No idea          No idea   \n",
       "3                       brakes  suspension boink      luggage idk  \n",
       "4  Something u put the tyre in            Spring  Back of the car  "
      ]
     },
     "execution_count": 6,
     "metadata": {},
     "output_type": "execute_result"
    }
   ],
   "source": [
    "df.head()"
   ]
  },
  {
   "cell_type": "code",
   "execution_count": 27,
   "id": "8dd08537",
   "metadata": {},
   "outputs": [
    {
     "data": {
      "text/plain": [
       "Male          410\n",
       "Female        365\n",
       "Non-binary     14\n",
       "Name: Gender, dtype: int64"
      ]
     },
     "execution_count": 27,
     "metadata": {},
     "output_type": "execute_result"
    }
   ],
   "source": [
    "df['Gender'].value_counts()"
   ]
  },
  {
   "cell_type": "code",
   "execution_count": 28,
   "id": "4b024a58",
   "metadata": {},
   "outputs": [
    {
     "data": {
      "text/plain": [
       "non-expert             591\n",
       "car expert             198\n",
       "A Non-Expert Female      3\n",
       "Name: Expertise, dtype: int64"
      ]
     },
     "execution_count": 28,
     "metadata": {},
     "output_type": "execute_result"
    }
   ],
   "source": [
    "df['Expertise'].value_counts()"
   ]
  },
  {
   "cell_type": "code",
   "execution_count": 29,
   "id": "ec03bc15",
   "metadata": {},
   "outputs": [
    {
     "data": {
      "text/plain": [
       "21-30       344\n",
       "18-20       250\n",
       "31-40       125\n",
       "41-50        54\n",
       "51-60        17\n",
       "11-20         1\n",
       "Above 61      1\n",
       "Name: Age, dtype: int64"
      ]
     },
     "execution_count": 29,
     "metadata": {},
     "output_type": "execute_result"
    }
   ],
   "source": [
    "df['Age'].value_counts()"
   ]
  },
  {
   "cell_type": "code",
   "execution_count": 7,
   "id": "ea312c9c",
   "metadata": {},
   "outputs": [
    {
     "data": {
      "text/plain": [
       "spare tire                                                                                88\n",
       "Spare tire                                                                                74\n",
       "tyre                                                                                      70\n",
       "spare wheel                                                                               34\n",
       "Tire                                                                                      23\n",
       "                                                                                          ..\n",
       "a tire not attached to a car                                                               1\n",
       "A spare tire enough to get you to a mechanic.                                              1\n",
       "Spare tire in a compartment likely in the back of a car                                    1\n",
       "Its a spare tire you have in case one of the regular tires decide to go into the light     1\n",
       "bonus tire                                                                                 1\n",
       "Name: Q1, Length: 346, dtype: int64"
      ]
     },
     "execution_count": 7,
     "metadata": {},
     "output_type": "execute_result"
    }
   ],
   "source": [
    "df['Q1'].value_counts()"
   ]
  },
  {
   "cell_type": "code",
   "execution_count": null,
   "id": "831de3ed",
   "metadata": {},
   "outputs": [],
   "source": []
  }
 ],
 "metadata": {
  "kernelspec": {
   "display_name": "Python 3 (ipykernel)",
   "language": "python",
   "name": "python3"
  },
  "language_info": {
   "codemirror_mode": {
    "name": "ipython",
    "version": 3
   },
   "file_extension": ".py",
   "mimetype": "text/x-python",
   "name": "python",
   "nbconvert_exporter": "python",
   "pygments_lexer": "ipython3",
   "version": "3.7.3"
  }
 },
 "nbformat": 4,
 "nbformat_minor": 5
}
